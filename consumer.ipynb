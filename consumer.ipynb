{
 "cells": [
  {
   "cell_type": "code",
   "execution_count": 5,
   "metadata": {},
   "outputs": [],
   "source": [
    "from pyspark.sql import SparkSession\n",
    "from pyspark.sql import functions as F\n",
    "from pyspark.sql.functions import udf, to_timestamp, col, collect_list\n",
    "from pyspark.sql.types import ArrayType, IntegerType\n",
    "from pyspark.ml import PipelineModel\n",
    "from pyspark.ml.linalg import Vectors\n",
    "from pyspark.ml.feature import VectorAssembler\n",
    "from pyspark.ml.linalg import VectorUDT\n"
   ]
  },
  {
   "cell_type": "code",
   "execution_count": null,
   "metadata": {},
   "outputs": [],
   "source": [
    "\n",
    "spark = SparkSession.builder.appName(\"BigData_Heartrate_Predict\").getOrCreate()\n"
   ]
  },
  {
   "cell_type": "code",
   "execution_count": null,
   "metadata": {},
   "outputs": [],
   "source": [
    "\n",
    "def pad_with_mean(heartrate_list):\n",
    "    # if not isinstance(heartrate_list, list):\n",
    "    #     return heartrate_list  # Nếu dữ liệu không phải là list, trả lại nguyên vẹn\n",
    "    max_length = 34701\n",
    "    current_length = len(heartrate_list)\n",
    "    \n",
    "    # Nếu chiều dài vector nhỏ hơn max_length, ta cần thêm các giá trị trung bình\n",
    "    if current_length < max_length:\n",
    "        mean_value = int(sum(heartrate_list) / current_length)  # Tính giá trị trung bình và chuyển sang kiểu int\n",
    "        # Tạo một vector mới có chiều dài bằng max_length\n",
    "        padded_vector = heartrate_list + [mean_value] * (max_length - current_length)\n",
    "        return padded_vector\n",
    "    else:\n",
    "        return heartrate_list\n"
   ]
  },
  {
   "cell_type": "code",
   "execution_count": null,
   "metadata": {},
   "outputs": [],
   "source": [
    "def preprocess_data(df):\n",
    "    df = df.withColumn(\"datetime_column\", to_timestamp(df[\"Time\"], \"MM/dd/yyyy hh:mm:ss a\"))\n",
    "    df = df.select(\n",
    "        'Id',\n",
    "        'datetime_column',\n",
    "        'Value'\n",
    "    )\n",
    "    df = df.withColumnRenamed(\"Value\", \"Heartrate\")\n",
    "    grouped_df = df.withColumn('timestamp', to_timestamp(col('datetime_column'))) \\\n",
    "    .withColumn('date', col('timestamp').cast('date'))  # Tạo cột 'date' chỉ chứa ngày\n",
    "\n",
    "    # Gom nhóm theo ngày\n",
    "    df = df.groupBy('Id','date').agg(\n",
    "        collect_list(\"Heartrate\").alias(\"heartrate_list\")\n",
    "    )\n",
    "    # Đăng ký hàm UDF\n",
    "    pad_with_mean_udf = udf(pad_with_mean, ArrayType(IntegerType()))\n",
    "    \n",
    "    # Áp dụng UDF để tạo cột mới với các vector đã được chuẩn hóa chiều dài\n",
    "    df = df.withColumn(\"normalized_heartrate_list\", pad_with_mean_udf(F.col(\"heartrate_list\")))\n",
    "    df = df.select('normalized_heartrate_list')\n",
    "    return df\n"
   ]
  },
  {
   "cell_type": "code",
   "execution_count": null,
   "metadata": {},
   "outputs": [],
   "source": [
    "def vectorize_data(df):\n",
    "    df = df.withColumn('heartrate_vector', \n",
    "                                   F.udf(lambda x: Vectors.dense([float(i) for i in x]), VectorUDT())('normalized_heartrate_list'))\n",
    "    assembler = VectorAssembler(inputCols=[\"heartrate_vector\"], outputCol=\"features\")\n",
    "    df = assembler.transform(df)\n",
    "    return df\n"
   ]
  },
  {
   "cell_type": "code",
   "execution_count": null,
   "metadata": {},
   "outputs": [],
   "source": [
    "preprocess_stage = F.udf(preprocess_data)\n",
    "vectorize_stage = F.udf(vectorize_data)"
   ]
  },
  {
   "cell_type": "code",
   "execution_count": null,
   "metadata": {},
   "outputs": [],
   "source": [
    "from pyspark.ml.classification import RandomForestClassificationModel\n",
    "\n",
    "# heartrate_model_path = \"DoAn\\\\results\\\\RandomForest_model\"\n",
    "heartrate_model_path = \"RandomForest_model\"\n",
    "heartrate_model = RandomForestClassificationModel.load(heartrate_model_path)\n"
   ]
  },
  {
   "cell_type": "code",
   "execution_count": null,
   "metadata": {},
   "outputs": [],
   "source": [
    "from kafka import KafkaConsumer\n",
    "from pymongo import MongoClient\n",
    "from json import loads\n",
    "\n",
    "\n",
    "kafka_topic = 'BigData_Heartrate_Predict'\n",
    "kafka_server = 'localhost:9092'\n",
    "mongo_uri = 'mongodb://localhost:27017'\n",
    "mongo_db = 'BigData_Heartrate'\n",
    "mongo_collection = 'Predict'\n",
    "\n",
    "mongo_client = MongoClient(mongo_uri)\n",
    "mongo_db = mongo_client[mongo_db]\n",
    "mongo_collection = mongo_db[mongo_collection]\n",
    "\n",
    "consumer = KafkaConsumer(\n",
    "    kafka_topic,\n",
    "    bootstrap_servers=kafka_server,\n",
    "    auto_offset_reset='earliest',\n",
    "    enable_auto_commit=True,\n",
    "    group_id='do_an',\n",
    "    value_deserializer=lambda x: loads(x.decode('utf-8'))\n",
    ")\n",
    "data_list = []\n",
    "try:\n",
    "    for message in consumer:\n",
    "        data = message.value\n",
    "        data_list.append(data)\n",
    "        df = spark.createDataFrame(data)\n",
    "        df = preprocess_stage(df)\n",
    "        df = vectorize_stage(df)\n",
    "        df_predict = heartrate_model.transform(df)\n",
    "        predict = df.select('prediction').collect()[0][0]\n",
    "        predict_str = \"\"\n",
    "        if predict == 0:\n",
    "            predict_str = \"Nhịp tim quá cao/quá thấp\"\n",
    "        elif predict == 1:\n",
    "            predict_str = \"Nhịp tim không ổn định\"\n",
    "        else:\n",
    "            predict_str = \"Nhịp tim bình thường\"\n",
    "        data[\"Heartrate\"] = data.pop(\"Value\")\n",
    "        data[\"Prediction\"] = predict_str\n",
    "        print(f\"Result row: {data}\")\n",
    "        mongo_collection.insert_one(data)\n",
    "\n",
    "except KeyboardInterrupt:\n",
    "    print(\"\\nStopped receive data.\")\n",
    "consumer.close()"
   ]
  }
 ],
 "metadata": {
  "kernelspec": {
   "display_name": "Python 3",
   "language": "python",
   "name": "python3"
  },
  "language_info": {
   "codemirror_mode": {
    "name": "ipython",
    "version": 3
   },
   "file_extension": ".py",
   "mimetype": "text/x-python",
   "name": "python",
   "nbconvert_exporter": "python",
   "pygments_lexer": "ipython3",
   "version": "3.8.10"
  }
 },
 "nbformat": 4,
 "nbformat_minor": 2
}
