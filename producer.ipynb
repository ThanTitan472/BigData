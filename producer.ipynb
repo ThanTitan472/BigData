{
 "cells": [
  {
   "cell_type": "code",
   "execution_count": null,
   "metadata": {},
   "outputs": [],
   "source": [
    "from time import sleep\n",
    "from json import dumps\n",
    "from kafka import KafkaProducer\n",
    "import pandas as pd\n",
    "\n",
    "topic_name = 'BigData_Heartrate_Predict'\n",
    "kafka_server = 'localhost:9092'\n",
    "\n",
    "producer = KafkaProducer(\n",
    "    bootstrap_servers=kafka_server,\n",
    "    value_serializer=lambda x: dumps(x).encode('utf-8')\n",
    ")\n",
    "# file_path = '/kaggle/input/fitbit/mturkfitbit_export_4.12.16-5.12.16/Fitabase Data 4.12.16-5.12.16/heartrate_seconds_merged.csv'\n",
    "# file_path = 'DoAn\\\\heartrate_seconds_merged_4.12.16-5.12.16.csv'\n",
    "file_path = 'heartrate_seconds_merged_4.12.16-5.12.16.csv'\n",
    "csv_data = pd.read_csv(file_path).head(3000)\n",
    "\n",
    "for index, row in csv_data.iterrows():\n",
    "  data = row.to_dict()\n",
    "\n",
    "  producer.send(topic_name, value=data)\n",
    "  sleep(1)\n",
    "producer.flush()\n",
    "producer.close()"
   ]
  }
 ],
 "metadata": {
  "kernelspec": {
   "display_name": "Python 3",
   "language": "python",
   "name": "python3"
  },
  "language_info": {
   "codemirror_mode": {
    "name": "ipython",
    "version": 3
   },
   "file_extension": ".py",
   "mimetype": "text/x-python",
   "name": "python",
   "nbconvert_exporter": "python",
   "pygments_lexer": "ipython3",
   "version": "3.12.3"
  }
 },
 "nbformat": 4,
 "nbformat_minor": 2
}
